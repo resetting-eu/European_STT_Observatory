{
 "cells": [
  {
   "cell_type": "code",
   "execution_count": 19,
   "id": "initial_id",
   "metadata": {
    "collapsed": true,
    "ExecuteTime": {
     "end_time": "2024-01-19T12:24:54.256704300Z",
     "start_time": "2024-01-19T12:24:54.229713300Z"
    }
   },
   "outputs": [
    {
     "name": "stdout",
     "output_type": "stream",
     "text": [
      "51\n"
     ]
    }
   ],
   "source": [
    "import json, re\n",
    "\n",
    "regions_with_prefix = {}\n",
    "\n",
    "with open(\"SpanishPrefixPhoneNumbersWithRegion.txt\", \"r\", encoding=\"utf-8\") as f:\n",
    "    for line in f:\n",
    "        # strip to remove \\n \n",
    "        info = line.strip()\n",
    "        region = re.findall(r'\\((.*?)\\)', info)\n",
    "        city = re.findall(r'(\\w+)(?=\\s*\\()|(\\w+)(?=:)', info)[0]\n",
    "        prefixes = re.findall(r'\\d+', info)\n",
    "        \n",
    "        if city[0] != '':\n",
    "            city = city[0]\n",
    "        else:\n",
    "            city = city[1]\n",
    "            \n",
    "        city_and_region = city\n",
    "        if len(region) != 0:\n",
    "            city_and_region += f\", {region[0]}\" \n",
    "            \n",
    "        regions_with_prefix[city_and_region] = prefixes\n",
    "        \n",
    "with open(\"SpanishPrefixPhoneNumbersWithRegion.json\", \"w\", encoding=\"utf-8\") as f:\n",
    "    json.dump(regions_with_prefix, f, indent=4)\n",
    "    \n",
    "    \n",
    "print(len(regions_with_prefix))\n",
    "        \n",
    "        "
   ]
  }
 ],
 "metadata": {
  "kernelspec": {
   "display_name": "Python 3",
   "language": "python",
   "name": "python3"
  },
  "language_info": {
   "codemirror_mode": {
    "name": "ipython",
    "version": 2
   },
   "file_extension": ".py",
   "mimetype": "text/x-python",
   "name": "python",
   "nbconvert_exporter": "python",
   "pygments_lexer": "ipython2",
   "version": "2.7.6"
  }
 },
 "nbformat": 4,
 "nbformat_minor": 5
}
